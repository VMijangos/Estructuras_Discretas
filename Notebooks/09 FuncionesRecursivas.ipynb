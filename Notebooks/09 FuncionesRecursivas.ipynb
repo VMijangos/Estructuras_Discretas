{
 "cells": [
  {
   "cell_type": "markdown",
   "id": "0e5ea459",
   "metadata": {},
   "source": [
    "# Programación de funciones recursivas\n",
    "\n",
    "## Suma\n",
    "\n",
    "$$\\begin{align*}\n",
    "m + 0 &= m \\\\\n",
    "m + s(n) &= s(m, n-1)\n",
    "\\end{align*}$$"
   ]
  },
  {
   "cell_type": "code",
   "execution_count": 1,
   "id": "77971bbb",
   "metadata": {},
   "outputs": [],
   "source": [
    "def s(m):\n",
    "    \"\"\"\n",
    "    Función sucesor.\n",
    "    \n",
    "    Arguments\n",
    "    ---------\n",
    "    m : int\n",
    "        Entero del que se tiene su sucesor.\n",
    "    \n",
    "    Returns\n",
    "    -------\n",
    "        Sucesor de m, i.e. m+1\n",
    "    \"\"\"\n",
    "    return m+1\n",
    "\n",
    "def suma(m,n):\n",
    "    \"\"\"\n",
    "    Función de suma de dos enteros.\n",
    "    \n",
    "    Arguments\n",
    "    ---------\n",
    "    m,n : int\n",
    "        Entereso que se sumarán.\n",
    "    \n",
    "    Results\n",
    "    -------\n",
    "        Suma m+n\n",
    "    \"\"\"\n",
    "    #Caso base\n",
    "    if n == 0:\n",
    "        result = m\n",
    "    #Regla recursiva\n",
    "    else:\n",
    "        result = s(suma(m, n-1))\n",
    "    \n",
    "    return result"
   ]
  },
  {
   "cell_type": "code",
   "execution_count": 2,
   "id": "72f8abd5",
   "metadata": {},
   "outputs": [
    {
     "name": "stdout",
     "output_type": "stream",
     "text": [
      "10\n"
     ]
    }
   ],
   "source": [
    "print(suma(5,5))"
   ]
  },
  {
   "cell_type": "markdown",
   "id": "be1787ce",
   "metadata": {},
   "source": [
    "## Producto\n",
    "\n",
    "$$\\begin{align*}\n",
    "m \\cdot 0 &= 0 \\\\\n",
    "m \\cdot (n+1) &= m \\cdot n + m\n",
    "\\end{align*}$$"
   ]
  },
  {
   "cell_type": "code",
   "execution_count": 3,
   "id": "ead026b2",
   "metadata": {},
   "outputs": [],
   "source": [
    "def producto(m,n):\n",
    "    \"\"\"\n",
    "    Función que regresa el producto de dos enteros.\n",
    "    \n",
    "    Arguments\n",
    "    ---------\n",
    "    m,n : int\n",
    "        Enteros que se multiplicarán.\n",
    "        \n",
    "    Returns\n",
    "    -------\n",
    "        Producto de los dos enteros m*n\n",
    "    \"\"\"\n",
    "    #Caso base\n",
    "    if n == 0:\n",
    "        result = 0\n",
    "    #Regla recursiva\n",
    "    else:\n",
    "        result = suma(producto(m, n-1), m)\n",
    "        \n",
    "    return result"
   ]
  },
  {
   "cell_type": "code",
   "execution_count": 4,
   "id": "87c71eb0",
   "metadata": {},
   "outputs": [
    {
     "name": "stdout",
     "output_type": "stream",
     "text": [
      "6\n"
     ]
    }
   ],
   "source": [
    "print(producto(3,2))"
   ]
  },
  {
   "cell_type": "markdown",
   "id": "9cefd6b3",
   "metadata": {},
   "source": [
    " ## Exponencial\n",
    "\n",
    "$$\\begin{align*}\n",
    "m^0 &= 1 \\\\\n",
    "m^{n+1} &= m^n \\cdot m\n",
    "\\end{align*}$$"
   ]
  },
  {
   "cell_type": "code",
   "execution_count": 5,
   "id": "c0c97028",
   "metadata": {},
   "outputs": [],
   "source": [
    "def potencia(m,n):\n",
    "    \"\"\"\n",
    "    Función para calcular la potencia de un entero elevado a otro entero.\n",
    "    \n",
    "    Arguments\n",
    "    ---------\n",
    "    m,n : int\n",
    "        Enteros que se usarán en la potenciación.\n",
    "        \n",
    "    Returns\n",
    "    -------\n",
    "        m elevado a la n, m^n\n",
    "    \"\"\"\n",
    "    #Caso base\n",
    "    if n == 0:\n",
    "        result = 1\n",
    "    #Regla recursiva\n",
    "    else:\n",
    "        result = producto(potencia(m,n-1),m)\n",
    "    \n",
    "    return result"
   ]
  },
  {
   "cell_type": "code",
   "execution_count": 6,
   "id": "83276205",
   "metadata": {},
   "outputs": [
    {
     "name": "stdout",
     "output_type": "stream",
     "text": [
      "27\n"
     ]
    }
   ],
   "source": [
    "print(potencia(3,3))"
   ]
  },
  {
   "cell_type": "markdown",
   "id": "031b7f1a",
   "metadata": {},
   "source": [
    "## Factorial\n",
    "\n",
    "$$\\begin{align*}\n",
    "0! &= 1 \\\\\n",
    "(m+1)! &= m!\\cdot (m+1)\n",
    "\\end{align*}$$"
   ]
  },
  {
   "cell_type": "code",
   "execution_count": 7,
   "id": "ff0edbe0",
   "metadata": {},
   "outputs": [],
   "source": [
    "def exponencial(m):\n",
    "    \"\"\"\n",
    "    Función que calcula el factorial de un entero.\n",
    "    \n",
    "    Arguments\n",
    "    ---------\n",
    "    m : int\n",
    "        Entero de entrada para calcular factorial\n",
    "        \n",
    "    Returns\n",
    "    -------\n",
    "        Factorial de m, m!\n",
    "    \"\"\"\n",
    "    #Caso base\n",
    "    if m == 0:\n",
    "        result = 1\n",
    "    #Regla recursiva\n",
    "    else:\n",
    "        result = producto(exponencial(m-1), m)\n",
    "        \n",
    "    return result"
   ]
  },
  {
   "cell_type": "code",
   "execution_count": 8,
   "id": "df2812cb",
   "metadata": {},
   "outputs": [
    {
     "name": "stdout",
     "output_type": "stream",
     "text": [
      "24\n"
     ]
    }
   ],
   "source": [
    "print(exponencial(4))"
   ]
  },
  {
   "cell_type": "code",
   "execution_count": null,
   "id": "56f5072c",
   "metadata": {},
   "outputs": [],
   "source": []
  }
 ],
 "metadata": {
  "kernelspec": {
   "display_name": "Python 3",
   "language": "python",
   "name": "python3"
  },
  "language_info": {
   "codemirror_mode": {
    "name": "ipython",
    "version": 3
   },
   "file_extension": ".py",
   "mimetype": "text/x-python",
   "name": "python",
   "nbconvert_exporter": "python",
   "pygments_lexer": "ipython3",
   "version": "3.8.8"
  }
 },
 "nbformat": 4,
 "nbformat_minor": 5
}

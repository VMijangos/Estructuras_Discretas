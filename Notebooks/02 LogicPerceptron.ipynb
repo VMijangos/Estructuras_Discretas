{
 "cells": [
  {
   "cell_type": "code",
   "execution_count": 3,
   "id": "2a445a1d",
   "metadata": {},
   "outputs": [],
   "source": [
    "def NOT(p):\n",
    "    f = -p + 0.5\n",
    "    return f > 0"
   ]
  },
  {
   "cell_type": "code",
   "execution_count": 4,
   "id": "3afefb83",
   "metadata": {},
   "outputs": [
    {
     "name": "stdout",
     "output_type": "stream",
     "text": [
      "p\t¬p\n",
      "1\tFalse\n",
      "0\tTrue\n"
     ]
    }
   ],
   "source": [
    "print('p\\t¬p')\n",
    "for p in [1, 0]:\n",
    "    print('{}\\t{}'.format(p,NOT(p)))"
   ]
  },
  {
   "cell_type": "code",
   "execution_count": 7,
   "id": "72efc0dc",
   "metadata": {},
   "outputs": [],
   "source": [
    "def AND(p,q):\n",
    "    f = p + q - 1.5\n",
    "    return f > 0"
   ]
  },
  {
   "cell_type": "code",
   "execution_count": 8,
   "id": "68ded419",
   "metadata": {},
   "outputs": [
    {
     "name": "stdout",
     "output_type": "stream",
     "text": [
      "p\tq\tp^q\n",
      "1\t1\tTrue\n",
      "1\t0\tFalse\n",
      "0\t1\tFalse\n",
      "0\t0\tFalse\n"
     ]
    }
   ],
   "source": [
    "print('p\\tq\\tp^q')\n",
    "for p in [1, 0]:\n",
    "    for q in [1, 0]:\n",
    "        print('{}\\t{}\\t{}'.format(p,q,AND(p,q)))"
   ]
  },
  {
   "cell_type": "code",
   "execution_count": 9,
   "id": "55c39561",
   "metadata": {},
   "outputs": [],
   "source": [
    "def OR(p,q):\n",
    "    f = p + q - 0.5\n",
    "    return f > 0"
   ]
  },
  {
   "cell_type": "code",
   "execution_count": 10,
   "id": "30cf8020",
   "metadata": {},
   "outputs": [
    {
     "name": "stdout",
     "output_type": "stream",
     "text": [
      "p\tq\tpvq\n",
      "True\tTrue\tTrue\n",
      "True\tFalse\tTrue\n",
      "False\tTrue\tTrue\n",
      "False\tFalse\tFalse\n"
     ]
    }
   ],
   "source": [
    "print('p\\tq\\tpvq')\n",
    "for p in [True, False]:\n",
    "    for q in [True, False]:\n",
    "        print('{}\\t{}\\t{}'.format(p,q,OR(p,q)))"
   ]
  },
  {
   "cell_type": "code",
   "execution_count": null,
   "id": "0acca9e7",
   "metadata": {},
   "outputs": [],
   "source": []
  }
 ],
 "metadata": {
  "kernelspec": {
   "display_name": "Python 3",
   "language": "python",
   "name": "python3"
  },
  "language_info": {
   "codemirror_mode": {
    "name": "ipython",
    "version": 3
   },
   "file_extension": ".py",
   "mimetype": "text/x-python",
   "name": "python",
   "nbconvert_exporter": "python",
   "pygments_lexer": "ipython3",
   "version": "3.8.8"
  }
 },
 "nbformat": 4,
 "nbformat_minor": 5
}

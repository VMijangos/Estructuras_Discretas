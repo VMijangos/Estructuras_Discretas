{
 "cells": [
  {
   "cell_type": "code",
   "execution_count": 169,
   "id": "8618141c",
   "metadata": {},
   "outputs": [],
   "source": [
    "import numpy as np\n",
    "\n",
    "def clock_pulse(t,period=1):\n",
    "    return np.sin(period*t) > 0\n",
    "\n",
    "class FlipFlopD():\n",
    "    def __init__(self, Q=True):\n",
    "        self.latch = LatchSR(Q)\n",
    "        self.Q = self.latch.Q\n",
    "        self.notQ = self.latch.notQ\n",
    "        \n",
    "    def run(self, D, t=0):\n",
    "        clk = clock_pulse(t)\n",
    "        #primer bloque\n",
    "        R = not(D and clk)\n",
    "        S = not(not(D) and clk)\n",
    "        \n",
    "        self.latch.run(S,R)\n",
    "        self.Q = self.latch.Q\n",
    "        self.notQ = self.latch.notQ"
   ]
  },
  {
   "cell_type": "code",
   "execution_count": 170,
   "id": "6734ff4b",
   "metadata": {},
   "outputs": [
    {
     "name": "stdout",
     "output_type": "stream",
     "text": [
      "False False False\n",
      "False True False\n",
      "True False False\n",
      "True True True\n"
     ]
    }
   ],
   "source": [
    "flipflop = FlipFlopD()\n",
    "\n",
    "for pulse in [0, 1]:\n",
    "    for d in [False, True]:\n",
    "        flipflop.run(d, t=pulse)\n",
    "        print(clock_pulse(pulse), d, flipflop.Q)"
   ]
  },
  {
   "cell_type": "code",
   "execution_count": 171,
   "id": "54af39ee",
   "metadata": {},
   "outputs": [
    {
     "data": {
      "text/plain": [
       "True"
      ]
     },
     "execution_count": 171,
     "metadata": {},
     "output_type": "execute_result"
    }
   ],
   "source": [
    "flipflop.run(True, t=1)\n",
    "flipflop.Q"
   ]
  },
  {
   "cell_type": "markdown",
   "id": "e8b5e018",
   "metadata": {},
   "source": [
    "# Flip-Flop T"
   ]
  },
  {
   "cell_type": "code",
   "execution_count": 57,
   "id": "f3a8adbe",
   "metadata": {},
   "outputs": [],
   "source": [
    "class LatchSR():\n",
    "    def __init__(self, Q=True):\n",
    "        self.Q = Q\n",
    "        self.notQ = not(Q)\n",
    "    \n",
    "    def run(self, S, R):\n",
    "        if S == False and R == False:\n",
    "            self.Q, self.notQ = self.Q, self.notQ\n",
    "        elif S == True:\n",
    "            self.notQ = not(S or self.Q)\n",
    "            self.Q = not(R or self.notQ)\n",
    "        elif S == False:\n",
    "            self.Q = not(R or self.notQ)\n",
    "            self.notQ = not(S or self.Q)"
   ]
  },
  {
   "cell_type": "code",
   "execution_count": 58,
   "id": "06b018f4",
   "metadata": {},
   "outputs": [
    {
     "name": "stdout",
     "output_type": "stream",
     "text": [
      "False False True False\n",
      "False True False True\n",
      "True False True False\n",
      "True True False False\n"
     ]
    }
   ],
   "source": [
    "for s in [False, True]:\n",
    "    for r in [False, True]:\n",
    "        sr = LatchSR()\n",
    "        sr.run(s, r)\n",
    "        print(s,r, sr.Q, sr.notQ)"
   ]
  },
  {
   "cell_type": "code",
   "execution_count": 59,
   "id": "23873f79",
   "metadata": {},
   "outputs": [],
   "source": [
    "class FlipFlopT():\n",
    "    def __init__(self, Q=True):\n",
    "        self.latch = LatchSR(Q)\n",
    "        self.Q = self.latch.Q\n",
    "        self.notQ = self.latch.notQ\n",
    "        \n",
    "    def run(self, T, clk=True, t=0):\n",
    "        #clk = clock_pulse(t)\n",
    "        #primer bloque\n",
    "        R = T and clk and self.Q\n",
    "        S = T and clk and self.notQ\n",
    "        #Segundo bloque\n",
    "        self.latch.run(S,R)\n",
    "        self.Q = self.latch.Q\n",
    "        self.notQ = self.latch.notQ"
   ]
  },
  {
   "cell_type": "code",
   "execution_count": 60,
   "id": "f57614a4",
   "metadata": {},
   "outputs": [
    {
     "name": "stdout",
     "output_type": "stream",
     "text": [
      "False True \\ False True\n"
     ]
    }
   ],
   "source": [
    "ffT = FlipFlopT(Q=False)\n",
    "print(ffT.Q, ffT.notQ, end=' \\\\ ')\n",
    "ffT.run(T=True, clk=False)\n",
    "print(ffT.Q, ffT.notQ)"
   ]
  },
  {
   "cell_type": "code",
   "execution_count": 61,
   "id": "df9a4656",
   "metadata": {},
   "outputs": [
    {
     "name": "stdout",
     "output_type": "stream",
     "text": [
      "True False\n"
     ]
    }
   ],
   "source": [
    "ffT.run(T=True)\n",
    "print(ffT.Q, ffT.notQ)"
   ]
  },
  {
   "cell_type": "code",
   "execution_count": 62,
   "id": "ca998d77",
   "metadata": {},
   "outputs": [],
   "source": [
    "class counter3():\n",
    "    def __init__(self):\n",
    "        self.module0 = FlipFlopT(Q=False)\n",
    "        self.module1 = FlipFlopT(Q=False)\n",
    "    \n",
    "    def count(self, clk=False):\n",
    "        self.module0.run(T=True, clk=clk)\n",
    "        self.module1.run(T=self.module0.Q, clk=clk)\n",
    "        \n",
    "        return 1*self.module0.Q + 2*1*self.module1.Q"
   ]
  },
  {
   "cell_type": "code",
   "execution_count": 63,
   "id": "ac7f2921",
   "metadata": {},
   "outputs": [],
   "source": [
    "counter = counter3()"
   ]
  },
  {
   "cell_type": "code",
   "execution_count": 64,
   "id": "369a9e35",
   "metadata": {},
   "outputs": [
    {
     "name": "stdout",
     "output_type": "stream",
     "text": [
      "3\n",
      "2\n",
      "1\n",
      "0\n"
     ]
    }
   ],
   "source": [
    "for t in range(0,4):\n",
    "    print(counter.count(clk=True))"
   ]
  },
  {
   "cell_type": "code",
   "execution_count": 65,
   "id": "b36f7f0d",
   "metadata": {},
   "outputs": [],
   "source": [
    "class counter7():\n",
    "    def __init__(self):\n",
    "        self.module0 = FlipFlopT(Q=False)\n",
    "        self.module1 = FlipFlopT(Q=False)\n",
    "        self.module2 = FlipFlopT(Q=False)\n",
    "        self.module3 = FlipFlopT(Q=False)\n",
    "    \n",
    "    def count(self, clk=False):\n",
    "        self.module0.run(T=True, clk=clk)\n",
    "        self.module1.run(T=self.module0.Q, clk=clk)\n",
    "        input_module2 = self.module0.Q and self.module1.Q\n",
    "        self.module2.run(T=input_module2, clk=clk)\n",
    "        \n",
    "        return 1*self.module0.Q + 2*1*self.module1.Q + 4*1*self.module2.Q"
   ]
  },
  {
   "cell_type": "code",
   "execution_count": 66,
   "id": "4031b235",
   "metadata": {},
   "outputs": [
    {
     "name": "stdout",
     "output_type": "stream",
     "text": [
      "7\n",
      "6\n",
      "5\n",
      "4\n",
      "3\n",
      "2\n",
      "1\n",
      "0\n"
     ]
    }
   ],
   "source": [
    "counter = counter7()\n",
    "for t in range(0,8):\n",
    "    print(counter.count(clk=True))"
   ]
  },
  {
   "cell_type": "code",
   "execution_count": 73,
   "id": "92b169de",
   "metadata": {},
   "outputs": [],
   "source": [
    "class DecimalCounter():\n",
    "    def __init__(self):\n",
    "        self.module0 = FlipFlopT(Q=False)\n",
    "        self.module1 = FlipFlopT(Q=False)\n",
    "        self.module2 = FlipFlopT(Q=False)\n",
    "        self.module3 = FlipFlopT(Q=False)\n",
    "    \n",
    "    def count(self, clk=False):\n",
    "        self.module0.run(T=True, clk=clk)\n",
    "        \n",
    "        input_module1 = self.module0.Q and self.module3.notQ\n",
    "        self.module1.run(T=self.module0.Q and self.module3.notQ, clk=clk)\n",
    "        \n",
    "        input_module2 = self.module0.Q and self.module1.Q\n",
    "        self.module2.run(T=self.module0.Q and self.module1.Q, clk=clk)\n",
    "        \n",
    "        Q0andQ1andQ2 = input_module2 or self.module2.Q\n",
    "        Q0andQ3 = self.module0.Q and self.module3.Q\n",
    "        input_module3 = Q0andQ1andQ2 or Q0andQ3\n",
    "        self.module3.run(T=input_module3, clk=clk)\n",
    "\n",
    "        #return 1*self.module0.Q, 1*self.module1.Q, 1*self.module2.Q, 1*self.module2.Q \n",
    "        return 1*self.module0.Q + 2*1*self.module1.Q + 4*1*self.module2.Q + 8*1*self.module3.Q"
   ]
  },
  {
   "cell_type": "code",
   "execution_count": 74,
   "id": "29107152",
   "metadata": {},
   "outputs": [
    {
     "name": "stdout",
     "output_type": "stream",
     "text": [
      "15\n",
      "6\n",
      "13\n",
      "4\n",
      "11\n",
      "10\n",
      "7\n",
      "14\n",
      "3\n",
      "2\n"
     ]
    }
   ],
   "source": [
    "decimal = DecimalCounter()\n",
    "for t in range(0,10):\n",
    "    print(decimal.count(clk=True))"
   ]
  },
  {
   "cell_type": "code",
   "execution_count": 72,
   "id": "0d27a3f3",
   "metadata": {},
   "outputs": [
    {
     "name": "stdout",
     "output_type": "stream",
     "text": [
      "14\n"
     ]
    }
   ],
   "source": [
    "print(decimal.count(clk=True))"
   ]
  },
  {
   "cell_type": "code",
   "execution_count": null,
   "id": "907d5e77",
   "metadata": {},
   "outputs": [],
   "source": []
  },
  {
   "cell_type": "code",
   "execution_count": null,
   "id": "9f375167",
   "metadata": {},
   "outputs": [],
   "source": []
  }
 ],
 "metadata": {
  "kernelspec": {
   "display_name": "Python 3",
   "language": "python",
   "name": "python3"
  },
  "language_info": {
   "codemirror_mode": {
    "name": "ipython",
    "version": 3
   },
   "file_extension": ".py",
   "mimetype": "text/x-python",
   "name": "python",
   "nbconvert_exporter": "python",
   "pygments_lexer": "ipython3",
   "version": "3.8.8"
  }
 },
 "nbformat": 4,
 "nbformat_minor": 5
}

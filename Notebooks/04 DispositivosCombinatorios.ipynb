{
 "cells": [
  {
   "cell_type": "code",
   "execution_count": 22,
   "id": "aaa05d2d",
   "metadata": {},
   "outputs": [
    {
     "name": "stdout",
     "output_type": "stream",
     "text": [
      "(0, 1)\n",
      "(1, 1)\n",
      "(2, 1)\n",
      "(3, 1)\n"
     ]
    }
   ],
   "source": [
    "# python program to implement multiplexer\n",
    " # Function to print output\n",
    "def Multiplexer(s0,s1,I=[1,1,1,1]):\n",
    "    #decimal value of s\n",
    "    input_line = s1 + (s0*2)\n",
    "    # getting the output of decimal value from inputs \n",
    "    F = I[input_line];\n",
    "    #print the output\n",
    "    return input_line, F\n",
    "# Driver code\n",
    "I=[1,1,1,1]\n",
    "s=[0,0]\n",
    "#passing I and s to function\n",
    "for i in [0,1]:\n",
    "    for j in [0,1]:\n",
    "        print(Multiplexer(i,j))"
   ]
  },
  {
   "cell_type": "code",
   "execution_count": 27,
   "id": "ae477b9c",
   "metadata": {},
   "outputs": [
    {
     "name": "stdout",
     "output_type": "stream",
     "text": [
      "0 0 [1, 0, 0, 0]\n",
      "0 1 [0, 1, 0, 0]\n",
      "1 0 [0, 0, 1, 0]\n",
      "1 1 [0, 0, 0, 1]\n"
     ]
    }
   ],
   "source": [
    "def BinaryDecoder(s0,s1):\n",
    "    not_s0 = 1-s0\n",
    "    not_s1 = 1-s1\n",
    "    \n",
    "    d0, d1, d2, d3 = not_s0*not_s1, not_s0*s1, s0*not_s1, s0*s1\n",
    "    \n",
    "    return [d0, d1, d2, d3]\n",
    "    \n",
    "for i in [0,1]:\n",
    "    for j in [0,1]:\n",
    "        print(i,j, BinaryDecoder(i,j))"
   ]
  },
  {
   "cell_type": "code",
   "execution_count": null,
   "id": "1a42936b",
   "metadata": {},
   "outputs": [],
   "source": []
  }
 ],
 "metadata": {
  "kernelspec": {
   "display_name": "Python 3",
   "language": "python",
   "name": "python3"
  },
  "language_info": {
   "codemirror_mode": {
    "name": "ipython",
    "version": 3
   },
   "file_extension": ".py",
   "mimetype": "text/x-python",
   "name": "python",
   "nbconvert_exporter": "python",
   "pygments_lexer": "ipython3",
   "version": "3.8.8"
  }
 },
 "nbformat": 4,
 "nbformat_minor": 5
}

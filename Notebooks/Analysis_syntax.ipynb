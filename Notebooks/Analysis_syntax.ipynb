{
 "cells": [
  {
   "cell_type": "markdown",
   "id": "295a052b",
   "metadata": {},
   "source": [
    "# Algoritmo analítico para árboles sintácticos\n",
    "\n",
    "Los algoritmos analíticos, a diferencia de los generativos, se basan en separar las expresiones por sus componentes, utilizando el concepto de esquema. Aquí implementamos un algoritmo simple para crear un árbol de análisis de expresiones de la forma: \n",
    "\n",
    "$$(A) \\circ (B)$$\n",
    "\n",
    "O de la forma:\n",
    "\n",
    "$$¬(A)$$\n",
    "\n",
    "Donde $A$ y $B$ son expresiones de la forma $(p\\circ q)$ y $\\circ es cualquier operador binario. Para construir este análisis necesitaremos algunas herramientas.\n",
    "\n",
    "### Utilidades\n",
    "\n",
    "En un archivo de utilidades que llamamos <i>utils.py</i> tenemos diferentes funciones y herramientas que nos servirán para construir el algoritmo. \n",
    "\n",
    "Para llamar a una función de este archivo de utilidades necesitamos indicar la siguiente sintaxis:\n",
    "\n",
    "```python\n",
    "from nombre_de_archivo import nombre_funcion\n",
    "```\n",
    "\n",
    "En este caso, indicamos que queremos la función `nombre_de_función` del programa o script `nombre_de_archivo`. Por ejemplo, aquí usaremos tres utilidades:\n",
    "\n",
    "* `MainConective` que es una función que separa la expresión en el conectivo y su rango.\n",
    "* `Node` que nos servirá para crear los nodos del árbol\n",
    "* `print_tree` que es una función que nos servirá para imprimir y visualizar el árbol.\n",
    "\n",
    "Todas estas herramientas están en el archivo de <i>utils.py</i>, por lo que los llamamos desde `utils`."
   ]
  },
  {
   "cell_type": "code",
   "execution_count": 1,
   "id": "ab638dbb",
   "metadata": {},
   "outputs": [],
   "source": [
    "#Llamamos MainConective desde utils\n",
    "from utils import MainConective\n",
    "#Llamamos Node desde utils\n",
    "from utils import Node\n",
    "#Llamamos print_tree desde utils\n",
    "from utils import print_tree"
   ]
  },
  {
   "cell_type": "markdown",
   "id": "d37c8e04",
   "metadata": {},
   "source": [
    "## Algoritmo analítico\n",
    "\n",
    "Para el algoritmo analítico construiremos un árbol a partir de las exprsiones. Como hemos visto, el algoritmo va a revisar:\n",
    "\n",
    "1. Si la expresión es atómica, acaba el algoritmo con un nodo hoja correspondiente a la expresión.\n",
    "2. Si el conectivo es unario, crea un nodo con el operador y otro con el rango.\n",
    "3. Si es binario, crea un nodo con el operador y otros con los rangos izquierdo y derecho.\n",
    "\n",
    "El algoritmo se aplica recursivamente. La entrada es una expresión y la salida será el árbol de análisi construido por esta expresión."
   ]
  },
  {
   "cell_type": "code",
   "execution_count": 2,
   "id": "97d564bc",
   "metadata": {},
   "outputs": [],
   "source": [
    "def Analysis(E):\n",
    "    \"\"\"\n",
    "    Algoritmo analítico para generar árboles sintácticos.\n",
    "    \n",
    "    Arguments\n",
    "    ---------\n",
    "    E : str\n",
    "        Expresión a analizar\n",
    "        \n",
    "    Returns\n",
    "    -------\n",
    "        Árbol sintáctico de la expresión\n",
    "    \"\"\"\n",
    "    #Si la expresión es atómica...\n",
    "    if len(E) == 1:\n",
    "        #...se crea el nodo hoja y se acaba el proceso\n",
    "        return Node(node=E)\n",
    "    #En otro caso\n",
    "    else:\n",
    "        #Aplicamos la función MainConnective que nos dará el conectivo y rango\n",
    "        conective = MainConective(E)\n",
    "        #Si el conectivo es unario...\n",
    "        if conective[0] == '¬':\n",
    "            #...guardamos el conectivo\n",
    "            rank = conective[1]\n",
    "            #y guardamos el rango aplicando el algoritmo recursivamente\n",
    "            child = Analysis(rank)\n",
    "            \n",
    "            #Finalmente, creamos los nodos del árbol\n",
    "            return Node(node=E, nodeOP=conective[0], nodeR=child)\n",
    "        #Si el nodo es binario...\n",
    "        else:\n",
    "            #...guardamos rango izquierdo y derecho\n",
    "            rankL = conective[1]\n",
    "            rankR = conective[2]\n",
    "            #guardamos el rango izquierdo aplicando el algoritmo recursivamente\n",
    "            childL = Analysis(rankL)\n",
    "            #guardamos el rango derecho aplicando el algoritmo recursivamente\n",
    "            childR = Analysis(rankR)\n",
    "            \n",
    "            #Finalmente, creamos los nodos del árbol\n",
    "            return Node(node=E, nodeOP=conective[0], nodeL=childL, nodeR=childR)"
   ]
  },
  {
   "cell_type": "markdown",
   "id": "adfebf4e",
   "metadata": {},
   "source": [
    "### Aplicación del algoritmo\n",
    "\n",
    "Ya definido el algoritmo podemos pasar a probarlo con diferentes expresiones. El algoritmo nos regresará un objeto árbol el cuál visualizaremos con la función `print_tree` que hemos llamdo anteriormente."
   ]
  },
  {
   "cell_type": "code",
   "execution_count": 3,
   "id": "1798ef78",
   "metadata": {},
   "outputs": [
    {
     "name": "stdout",
     "output_type": "stream",
     "text": [
      "p->q\n",
      "\toperador: ->\n",
      "\trango L: p\n",
      "\trango R: q\n"
     ]
    }
   ],
   "source": [
    "#Expresión de implicación a analizar\n",
    "expresion = 'p->q'\n",
    "#Aplicamos el algoritmo y guardamos el resultado en la variable tree\n",
    "tree = Analysis(expresion)\n",
    "#Imprimimos el árbol para visualizarlo\n",
    "print_tree(tree)"
   ]
  },
  {
   "cell_type": "markdown",
   "id": "04ecdd75",
   "metadata": {},
   "source": [
    "Podemos aplicarlo a expresiones más complejas."
   ]
  },
  {
   "cell_type": "code",
   "execution_count": 4,
   "id": "16ae6314",
   "metadata": {},
   "outputs": [
    {
     "name": "stdout",
     "output_type": "stream",
     "text": [
      "(¬(pvs))->(q^r)\n",
      "\toperador: ->\n",
      "\trango L: ¬(pvs)\n",
      "\t\toperador: ¬\n",
      "\t\trango: pvs\n",
      "\t\t\toperador: v\n",
      "\t\t\trango L: p\n",
      "\t\t\trango R: s\n",
      "\trango R: q^r\n",
      "\t\toperador: ^\n",
      "\t\trango L: q\n",
      "\t\trango R: r\n"
     ]
    }
   ],
   "source": [
    "#Expresión a analizar\n",
    "expresion = '(¬(pvs))->(q^r)'\n",
    "#Aplicamos el algoritmo y guardamos el resultado en la variable tree\n",
    "tree = Analysis(expresion)\n",
    "#Imprimimos el árbol para visualizarlo\n",
    "print_tree(tree)"
   ]
  },
  {
   "cell_type": "markdown",
   "id": "7c0d1a2d",
   "metadata": {},
   "source": [
    "### Visualización gráfica del árbol\n",
    "\n",
    "Los lenguajes de programación nos permiten visualizar imágenes de las estructuras de datos que definimos. En particular, nos permiten visualizar árboles. Sin embargo, esto suele requerrir de librerías externas, que se han realizado por otras personas o instituciones. \n",
    "\n",
    "Aquí utilizamos una función `draw_tree` que llamamos desde `utils` pero cabe señalar que esta función utiliza otras funciones externas, en particular de librerías como `networkx` (https://networkx.org/) y `matplotlib` (https://matplotlib.org/). Si éstas librerías no están instalada la función no servirá y nos arrojará un error."
   ]
  },
  {
   "cell_type": "code",
   "execution_count": 7,
   "id": "036673c7",
   "metadata": {},
   "outputs": [
    {
     "data": {
      "image/png": "[encoded data removed]",
      "text/plain": [
       "<Figure size 360x360 with 1 Axes>"
      ]
     },
     "metadata": {},
     "output_type": "display_data"
    }
   ],
   "source": [
    "#Llamamos función para visualizar el árbol\n",
    "from utils import draw_tree\n",
    "\n",
    "#Dibujamos el árbol\n",
    "draw_tree(tree)"
   ]
  },
  {
   "cell_type": "markdown",
   "id": "37f24f86",
   "metadata": {},
   "source": [
    "Podemos visualizar otros árboles haciendo una composición de las funciones que hemos programado."
   ]
  },
  {
   "cell_type": "code",
   "execution_count": 6,
   "id": "ddecc704",
   "metadata": {},
   "outputs": [
    {
     "data": {
      "image/png": "[encoded data removed]",
      "text/plain": [
       "<Figure size 360x360 with 1 Axes>"
      ]
     },
     "metadata": {},
     "output_type": "display_data"
    }
   ],
   "source": [
    "#Dibujamos el árbol para una expresión \n",
    "#que analizamos previamente\n",
    "draw_tree(Analysis('p->¬q'))"
   ]
  },
  {
   "cell_type": "markdown",
   "id": "1e3f5c69",
   "metadata": {},
   "source": [
    "     "
   ]
  }
 ],
 "metadata": {
  "kernelspec": {
   "display_name": "Python 3",
   "language": "python",
   "name": "python3"
  },
  "language_info": {
   "codemirror_mode": {
    "name": "ipython",
    "version": 3
   },
   "file_extension": ".py",
   "mimetype": "text/x-python",
   "name": "python",
   "nbconvert_exporter": "python",
   "pygments_lexer": "ipython3",
   "version": "3.8.8"
  }
 },
 "nbformat": 4,
 "nbformat_minor": 5
}

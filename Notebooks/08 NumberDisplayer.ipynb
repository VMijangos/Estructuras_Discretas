{
 "cells": [
  {
   "cell_type": "markdown",
   "id": "8abb4174",
   "metadata": {},
   "source": [
    "# Decodificador y visualizador de digitos\n",
    "\n",
    "Para visualizar los digitos con un circuito digital se puede usar un displayer que permita visualizar los digitos en un formato amigable para el usuario. Para hacer esto, se necesita, primero, un decodificador de números binarios que es un circuito digital sencillo, aunque con muchas entradas."
   ]
  },
  {
   "cell_type": "code",
   "execution_count": 1,
   "id": "60a178f9",
   "metadata": {},
   "outputs": [],
   "source": [
    "import numpy as np\n",
    "import matplotlib.pyplot as plt"
   ]
  },
  {
   "cell_type": "markdown",
   "id": "95073f95",
   "metadata": {},
   "source": [
    "## Decodificador de 4 bits\n",
    "\n",
    "Un decodificador es un circuit que toma una cadena de bits, en este caso 4, y devuelve un índice correspondiente al número decimal que se trate.\n",
    "\n",
    "Este decodificador usa compurtas NOT y AND, básicamente se toma en cuenta los valores binarios, y se toma el AND sobre los valores verdaderos (1) de los bits.\n",
    "\n",
    "Por ejemplo, para el 0, con cuatro digitos binarios se expresa como 0000 por tanto, se usarán los valores $\\overline{a}\\overline{b}\\overline{c}\\overline{d}$ para esta compuerta. Para el caso del 2, por ejemplo, que se expresa en binario como 0010, la compuerta AND tomará como entrada $\\overline{a}\\overline{b}c\\overline{d}$.\n",
    "\n",
    "Gráficamente, se peude ver como sigue en el caso de 3 bits:\n",
    "\n",
    "![decodificador](https://www.researchgate.net/profile/Avat-Taherpour/publication/262619189/figure/fig3/AS:296489889878024@1447700106974/3-to-8-line-decoder.png)\n",
    "\n",
    "Aquí adaptamos esta idea al caso de 4 bits."
   ]
  },
  {
   "cell_type": "code",
   "execution_count": 2,
   "id": "0e266468",
   "metadata": {},
   "outputs": [],
   "source": [
    "def BinaryDecoder(a,b,c,d):\n",
    "    \"\"\"\n",
    "    Decodificador de 4 digitos binarios.\n",
    "    \n",
    "    Arguments\n",
    "    ---------\n",
    "    a,b,c,d : binary\n",
    "        Los digitos de la cadena binaria que exprezan el número a decodificar.\n",
    "    \n",
    "    Returns\n",
    "    -------\n",
    "    Índice que corresponde al número decimal.\n",
    "    \"\"\"\n",
    "    #Puertas not\n",
    "    not_a = 1-a\n",
    "    not_b = 1-b\n",
    "    not_c = 1-c\n",
    "    not_d = 1-d\n",
    "    \n",
    "    #Purtas de salida (AND) para los digitos de 0 a 9\n",
    "    d0 = not_a*not_b*not_c*not_d\n",
    "    d1 = not_a*not_b*not_c*d\n",
    "    d2 = not_a*not_b*c*not_d\n",
    "    d3 = not_a*not_b*c*d\n",
    "    d4 = not_a*b*not_c*not_d\n",
    "    d5 = not_a*b*not_c*d\n",
    "    d6 = not_a*b*c*not_d\n",
    "    d7 = not_a*b*c*d\n",
    "    d8 = a*not_b*not_c*not_d\n",
    "    d9 = a*not_b*not_c*d\n",
    "    \n",
    "    return [d0, d1, d2, d3, d4, d5, d6, d7, d8, d9]"
   ]
  },
  {
   "cell_type": "markdown",
   "id": "73aeace9",
   "metadata": {},
   "source": [
    "Este decodificador regresa entonces una cadena donde el único 1 se activa en el valor del decimal correspondiente. Por ejemplo, mapea 0010 a 00100000, pues índica que es el número 2 decimal. "
   ]
  },
  {
   "cell_type": "code",
   "execution_count": 3,
   "id": "5b641e57",
   "metadata": {},
   "outputs": [
    {
     "name": "stdout",
     "output_type": "stream",
     "text": [
      "[1, 0, 0, 0, 0, 0, 0, 0, 0, 0]\n",
      "[0, 0, 1, 0, 0, 0, 0, 0, 0, 0]\n"
     ]
    }
   ],
   "source": [
    "#Decodificación de 0000\n",
    "print(BinaryDecoder(0,0,0,0))\n",
    "#Decodificación de 0010\n",
    "print(BinaryDecoder(0,0,1,0))"
   ]
  },
  {
   "cell_type": "markdown",
   "id": "9c2307c0",
   "metadata": {},
   "source": [
    "## Displayer\n",
    "\n",
    "Una vez que tenemos el decodificador, podemos utilizar el displayer para visualizar los digitos. Básicamente el displayer cuenta con 7 leds que se prenden según el número que quieren visualizar. La estructura de un displayer es como sigue:\n",
    "\n",
    "![displayer](https://pfnicholls.com/Electronics_Resources/Images/LED_Pinout.png)\n",
    "\n",
    "Por ejemplo, si queremos ver el número 0, el displayer nos arroja [1, 0, 0, 0, 0, 0, 0, 0, 0, 0], y tenemos que encender los leds f,a,b,c,d,e. El displayer funcionará con puertas NOT, cada puerta representa uno de los leds. Las operaciones OR se harán sobre los digitos que necesiten encender este led. Por ejemplo, para el led a los digitos que lo requieren serán 0, 2, 3, 5, 6, 7, 8 y 9, sólo exceptuando al 1 que no usa este led. Por tanto, usaremos una puerta OR sobre estos valores. "
   ]
  },
  {
   "cell_type": "code",
   "execution_count": 4,
   "id": "1c9f4380",
   "metadata": {},
   "outputs": [],
   "source": [
    "def display(a,b,c,d):\n",
    "    \"\"\"\n",
    "    Desplega la visualización de un digito en base leds y a un decodificador binario.\n",
    "    \n",
    "    Arguments\n",
    "    ---------\n",
    "    a,b,c,d : binary\n",
    "        Digitos de la cadena binaria a visualizar.\n",
    "        \n",
    "    Returns\n",
    "    -------\n",
    "        Display del digito correspondiente a la cadena binarias.\n",
    "    \"\"\"\n",
    "    #Obtención de los índices del decodificador binario\n",
    "    d0,d1,d2,d3,d4,d5,d6,d7,d8,d9 = BinaryDecoder(a,b,c,d)\n",
    "    \n",
    "    #Puertas OR para el displayer \n",
    "    up = d0 or d2 or d3 or d5 or d6 or d7 or d8 or d9\n",
    "    left1 = d0 or d4 or d5 or d6 or d8 or d9\n",
    "    right1 = d0 or d1 or d2 or d3 or d4 or d7 or d8 or d9\n",
    "    mid = d2 or d3 or d4 or d5 or d6 or d8 or d9\n",
    "    left2 = d0 or d2 or d6 or d8\n",
    "    right2 = d0 or d1 or d3 or d4 or d5 or d6 or d7 or d8 or d9\n",
    "    down = d0 or d2 or d3 or d5 or d6 or d8 \n",
    "    \n",
    "    #Transformarmos el displayer en pixeles para una imagen\n",
    "    pixels= np.array([[up, up, up], \n",
    "                    [left1, 0, right1],\n",
    "                    [left2, mid, right1],\n",
    "                    [left2, 0, right2],\n",
    "                    [down, down, down]])\n",
    "    \n",
    "    #Se muestra la imagen en escala de grises\n",
    "    plt.imshow(pixels, cmap='Greys')\n",
    "    plt.show()"
   ]
  },
  {
   "cell_type": "markdown",
   "id": "1d2a5071",
   "metadata": {},
   "source": [
    "Ahora podemos usar el displayer para visualizar una cadena binaria como un número decimal."
   ]
  },
  {
   "cell_type": "code",
   "execution_count": 5,
   "id": "b5fcaa67",
   "metadata": {},
   "outputs": [
    {
     "data": {
      "image/png": "[encoded data removed]",
      "text/plain": [
       "<Figure size 432x288 with 1 Axes>"
      ]
     },
     "metadata": {
      "needs_background": "light"
     },
     "output_type": "display_data"
    },
    {
     "data": {
      "image/png": "[encoded data removed]",
      "text/plain": [
       "<Figure size 432x288 with 1 Axes>"
      ]
     },
     "metadata": {
      "needs_background": "light"
     },
     "output_type": "display_data"
    }
   ],
   "source": [
    "#Display 0011 correspondiente a 3\n",
    "display(0,0,1,1)\n",
    "\n",
    "#Display 0010 correspondiente a 2\n",
    "display(0,0,1,0)"
   ]
  },
  {
   "cell_type": "markdown",
   "id": "6bbc7128",
   "metadata": {},
   "source": [
    "Finalmente, podemos ver como se visualizan cada uno de los 9 digitos."
   ]
  },
  {
   "cell_type": "code",
   "execution_count": 6,
   "id": "f1ea62c7",
   "metadata": {},
   "outputs": [
    {
     "name": "stdout",
     "output_type": "stream",
     "text": [
      "0000\n"
     ]
    },
    {
     "data": {
      "image/png": "[encoded data removed]",
      "text/plain": [
       "<Figure size 432x288 with 1 Axes>"
      ]
     },
     "metadata": {
      "needs_background": "light"
     },
     "output_type": "display_data"
    },
    {
     "name": "stdout",
     "output_type": "stream",
     "text": [
      "0001\n"
     ]
    },
    {
     "data": {
      "image/png": "[encoded data removed]",
      "text/plain": [
       "<Figure size 432x288 with 1 Axes>"
      ]
     },
     "metadata": {
      "needs_background": "light"
     },
     "output_type": "display_data"
    },
    {
     "name": "stdout",
     "output_type": "stream",
     "text": [
      "0010\n"
     ]
    },
    {
     "data": {
      "image/png": "[encoded data removed]",
      "text/plain": [
       "<Figure size 432x288 with 1 Axes>"
      ]
     },
     "metadata": {
      "needs_background": "light"
     },
     "output_type": "display_data"
    },
    {
     "name": "stdout",
     "output_type": "stream",
     "text": [
      "0011\n"
     ]
    },
    {
     "data": {
      "image/png": "[encoded data removed]",
      "text/plain": [
       "<Figure size 432x288 with 1 Axes>"
      ]
     },
     "metadata": {
      "needs_background": "light"
     },
     "output_type": "display_data"
    },
    {
     "name": "stdout",
     "output_type": "stream",
     "text": [
      "0100\n"
     ]
    },
    {
     "data": {
      "image/png": "[encoded data removed]",
      "text/plain": [
       "<Figure size 432x288 with 1 Axes>"
      ]
     },
     "metadata": {
      "needs_background": "light"
     },
     "output_type": "display_data"
    },
    {
     "name": "stdout",
     "output_type": "stream",
     "text": [
      "0101\n"
     ]
    },
    {
     "data": {
      "image/png": "[encoded data removed]",
      "text/plain": [
       "<Figure size 432x288 with 1 Axes>"
      ]
     },
     "metadata": {
      "needs_background": "light"
     },
     "output_type": "display_data"
    },
    {
     "name": "stdout",
     "output_type": "stream",
     "text": [
      "0110\n"
     ]
    },
    {
     "data": {
      "image/png": "[encoded data removed]",
      "text/plain": [
       "<Figure size 432x288 with 1 Axes>"
      ]
     },
     "metadata": {
      "needs_background": "light"
     },
     "output_type": "display_data"
    },
    {
     "name": "stdout",
     "output_type": "stream",
     "text": [
      "0111\n"
     ]
    },
    {
     "data": {
      "image/png": "[encoded data removed]",
      "text/plain": [
       "<Figure size 432x288 with 1 Axes>"
      ]
     },
     "metadata": {
      "needs_background": "light"
     },
     "output_type": "display_data"
    },
    {
     "name": "stdout",
     "output_type": "stream",
     "text": [
      "1000\n"
     ]
    },
    {
     "data": {
      "image/png": "[encoded data removed]",
      "text/plain": [
       "<Figure size 432x288 with 1 Axes>"
      ]
     },
     "metadata": {
      "needs_background": "light"
     },
     "output_type": "display_data"
    },
    {
     "name": "stdout",
     "output_type": "stream",
     "text": [
      "1001\n"
     ]
    },
    {
     "data": {
      "image/png": "[encoded data removed]",
      "text/plain": [
       "<Figure size 432x288 with 1 Axes>"
      ]
     },
     "metadata": {
      "needs_background": "light"
     },
     "output_type": "display_data"
    }
   ],
   "source": [
    "for i in range(10):\n",
    "    #Se genera una cadena binaria por cada digito de 0 a 9\n",
    "    binary_digit = '{:0{}b}'.format(i, 4)\n",
    "    #Imprime el digito binario\n",
    "    print(binary_digit)\n",
    "    #Aplica el display a la cadena binaria.\n",
    "    display(int(binary_digit[0]),int(binary_digit[1]), int(binary_digit[2]), int(binary_digit[3]))"
   ]
  },
  {
   "cell_type": "markdown",
   "id": "5aa8a2c1",
   "metadata": {},
   "source": [
    "    "
   ]
  }
 ],
 "metadata": {
  "kernelspec": {
   "display_name": "Python 3",
   "language": "python",
   "name": "python3"
  },
  "language_info": {
   "codemirror_mode": {
    "name": "ipython",
    "version": 3
   },
   "file_extension": ".py",
   "mimetype": "text/x-python",
   "name": "python",
   "nbconvert_exporter": "python",
   "pygments_lexer": "ipython3",
   "version": "3.8.8"
  }
 },
 "nbformat": 4,
 "nbformat_minor": 5
}

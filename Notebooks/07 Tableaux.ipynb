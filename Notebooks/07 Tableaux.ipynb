{
 "cells": [
  {
   "cell_type": "markdown",
   "id": "d0c775e8",
   "metadata": {},
   "source": [
    "# Tableaux semánticos\n",
    "\n",
    "## Reglas para construcción de los tableaux"
   ]
  },
  {
   "cell_type": "code",
   "execution_count": 1,
   "id": "1e71d8b5",
   "metadata": {},
   "outputs": [],
   "source": [
    "from utils import MainConective, Node\n",
    "\n",
    "def alpha_rules(exp):\n",
    "    con = MainConective(exp)\n",
    "    if con[0] in '^':\n",
    "        l, r = con[1], con[2]\n",
    "        return [l, r]\n",
    "    elif con[0] == '¬':\n",
    "        con1 = MainConective(con[1])\n",
    "        if con1[0] == 'v':\n",
    "            return ['¬'+con1[1], '¬'+con1[2]]\n",
    "        elif con1[0] == '->':\n",
    "            return [con1[1], '¬'+con1[2]]\n",
    "    else:\n",
    "        pass\n",
    "        \n",
    "def beta_rules(exp):\n",
    "    con = MainConective(exp)\n",
    "    \n",
    "    if con[0] == 'v':\n",
    "        return [con[1], con[2]]\n",
    "    elif con[0] == '->':\n",
    "        return ['¬'+con[1], con[2]]\n",
    "    elif con[0] == '¬':\n",
    "        con1 = MainConective(con[1])\n",
    "        if con1[0] == '^':\n",
    "            return ['¬'+con1[1], '¬'+con1[2]]\n",
    "    else:\n",
    "        pass\n",
    "\n",
    "def sigma_rules(exp):\n",
    "    if '¬¬' == exp[:2]:\n",
    "        return exp[2]\n",
    "    elif '¬(¬' == exp[:3]:\n",
    "        return exp[3]"
   ]
  },
  {
   "cell_type": "code",
   "execution_count": 2,
   "id": "9669ed5e",
   "metadata": {},
   "outputs": [
    {
     "name": "stdout",
     "output_type": "stream",
     "text": [
      "['p', 'q']\n",
      "['¬p', '¬q']\n",
      "['p', '¬q']\n",
      "['p', 'q']\n",
      "['¬p', 'q']\n",
      "['¬p', '¬q']\n",
      "p\n",
      "p\n"
     ]
    }
   ],
   "source": [
    "print(alpha_rules('p^q'))\n",
    "print(alpha_rules('¬(pvq)'))\n",
    "print(alpha_rules('¬(p->q)'))\n",
    "\n",
    "print(beta_rules('pvq'))\n",
    "print(beta_rules('p->q'))\n",
    "print(beta_rules('¬(p^q)'))\n",
    "\n",
    "print(sigma_rules('¬(¬p)'))\n",
    "print(sigma_rules('¬¬p'))"
   ]
  },
  {
   "cell_type": "markdown",
   "id": "a6b7c979",
   "metadata": {},
   "source": [
    "## Construcción del árbol"
   ]
  },
  {
   "cell_type": "code",
   "execution_count": 3,
   "id": "fb73648d",
   "metadata": {},
   "outputs": [],
   "source": [
    "class Node(object):\n",
    "    def __init__(self, expression, leaf=False, closed=False, parent=None, tipo=None):\n",
    "        self.exp = expression\n",
    "        self.leaf = leaf\n",
    "        self.closed = closed\n",
    "        self.parent = parent\n",
    "        self.tipo = tipo\n",
    "    def __str__(self):\n",
    "        if self.exp != None:\n",
    "            return self.exp\n",
    "        else:\n",
    "            return ''\n",
    "        \n",
    "def check_leaf(expression):\n",
    "    if alpha_rules(expression) == None and beta_rules(expression) == None:\n",
    "        return True\n",
    "    else:\n",
    "        return False"
   ]
  },
  {
   "cell_type": "code",
   "execution_count": 4,
   "id": "9308ebef",
   "metadata": {},
   "outputs": [],
   "source": [
    "def construct_tree(axioms):\n",
    "    tree = [Node('root', tipo='alpha')]\n",
    "    leafs = []\n",
    "    for i,formula in enumerate(axioms):\n",
    "        node = Node(formula, parent=tree[i], tipo='alpha')\n",
    "        tree.append(node)\n",
    "\n",
    "    for n in tree:\n",
    "        alpha = alpha_rules(n.exp)\n",
    "        if alpha != None:\n",
    "            alpha_node1 = Node(alpha[0], parent=tree[-1], tipo='alpha')\n",
    "            alpha_node2 = Node(alpha[1], parent=alpha_node1, tipo='alpha')\n",
    "            tree.append(alpha_node1)\n",
    "            tree.append(alpha_node2)\n",
    "        else:\n",
    "            pass\n",
    "        \n",
    "    for n in tree:\n",
    "        beta = beta_rules(n.exp)\n",
    "        if beta != None:\n",
    "            if n.tipo == 'alpha':\n",
    "                beta_node1 = Node(beta[0], parent=tree[-1], tipo='beta')\n",
    "                beta_node2 = Node(beta[1], parent=tree[-1], tipo='beta')\n",
    "            else:\n",
    "                beta_node1 = Node(beta[0], parent=n, tipo='beta')\n",
    "                beta_node2 = Node(beta[1], parent=n, tipo='beta')\n",
    "            tree.append(beta_node1)\n",
    "            tree.append(beta_node2)\n",
    "        else:\n",
    "            pass\n",
    "        \n",
    "    for i,n in enumerate(tree):\n",
    "        if i < len(tree)-1:\n",
    "            if sum([t.parent.exp == n.exp for t in tree[i+1:]]) == 0:\n",
    "                n.leaf = True\n",
    "        else:\n",
    "            n.leaf = True\n",
    "\n",
    "    return tree"
   ]
  },
  {
   "cell_type": "code",
   "execution_count": 5,
   "id": "50fad311",
   "metadata": {},
   "outputs": [
    {
     "name": "stdout",
     "output_type": "stream",
     "text": [
      "None \n",
      "\t--> root\n",
      "root \n",
      "\t--> (p^q)->(rvs)\n",
      "(p^q)->(rvs) \n",
      "\t--> q\n",
      "q \n",
      "\t--> ¬(rvs)\n",
      "¬(rvs) \n",
      "\t--> ¬¬p\n",
      "¬¬p \n",
      "\t--> ¬r\n",
      "¬r \n",
      "\t--> ¬s\n",
      "¬s \n",
      "\t--> ¬p^q\n",
      "¬s \n",
      "\t--> rvs\n",
      "¬p^q \n",
      "\t--> ¬p\n",
      "¬p^q \n",
      "\t--> ¬q\n",
      "rvs \n",
      "\t--> r\n",
      "rvs \n",
      "\t--> s\n"
     ]
    }
   ],
   "source": [
    "tree = construct_tree(['(p^q)->(rvs)', 'q', '¬(rvs)', '¬¬p'])\n",
    "    \n",
    "for n in tree:\n",
    "    print(n.parent, '\\n\\t-->', n) "
   ]
  },
  {
   "cell_type": "markdown",
   "id": "d05125fb",
   "metadata": {},
   "source": [
    "## Revisión de las hojas"
   ]
  },
  {
   "cell_type": "code",
   "execution_count": 6,
   "id": "87802b47",
   "metadata": {},
   "outputs": [
    {
     "name": "stdout",
     "output_type": "stream",
     "text": [
      "Nodo hoja: s; ¿cerrado?: True\n",
      "Nodo hoja: r; ¿cerrado?: True\n",
      "Nodo hoja: ¬q; ¿cerrado?: True\n",
      "Nodo hoja: ¬p; ¿cerrado?: True\n"
     ]
    },
    {
     "data": {
      "text/plain": [
       "True"
      ]
     },
     "execution_count": 6,
     "metadata": {},
     "output_type": "execute_result"
    }
   ],
   "source": [
    "def check_closed_leafs(tree):\n",
    "    checked = []\n",
    "    for node in tree[::-1]:\n",
    "        if node.leaf == True:\n",
    "            expression = node.exp\n",
    "            comparisson_node = node\n",
    "            while comparisson_node.parent.exp != 'root':\n",
    "                if expression == '¬'+comparisson_node.exp or '¬'+expression == comparisson_node.exp:\n",
    "                    node.closed = True\n",
    "                else:\n",
    "                    pass\n",
    "                comparisson_node = comparisson_node.parent\n",
    "            checked.append(node.closed)\n",
    "\n",
    "            print('Nodo hoja: {}; ¿cerrado?: {}'.format(node, node.closed))\n",
    "    \n",
    "    return all(checked)\n",
    "    \n",
    "check_closed_leafs(tree)"
   ]
  },
  {
   "cell_type": "code",
   "execution_count": null,
   "id": "b380a4d1",
   "metadata": {},
   "outputs": [],
   "source": []
  }
 ],
 "metadata": {
  "kernelspec": {
   "display_name": "Python 3",
   "language": "python",
   "name": "python3"
  },
  "language_info": {
   "codemirror_mode": {
    "name": "ipython",
    "version": 3
   },
   "file_extension": ".py",
   "mimetype": "text/x-python",
   "name": "python",
   "nbconvert_exporter": "python",
   "pygments_lexer": "ipython3",
   "version": "3.8.8"
  }
 },
 "nbformat": 4,
 "nbformat_minor": 5
}

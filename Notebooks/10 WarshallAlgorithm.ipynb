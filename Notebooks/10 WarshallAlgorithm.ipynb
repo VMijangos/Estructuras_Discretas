{
 "cells": [
  {
   "cell_type": "markdown",
   "id": "cd42c3b9",
   "metadata": {},
   "source": [
    "# Algoritmo de Warshall\n",
    "\n",
    "El algoritmo de Warshall crea una relación transitiva a partir de una relación cualquiera a partir de observar las potencias creando la cerradura transitiva $R^+$ de $R$."
   ]
  },
  {
   "cell_type": "code",
   "execution_count": 1,
   "id": "42ce1bc4",
   "metadata": {},
   "outputs": [],
   "source": [
    "import networkx as nx\n",
    "\n",
    "def construct_adjacency(R, n):\n",
    "    \"\"\"Función para obtener la forma tabular de la relación.\"\"\"\n",
    "    M = []\n",
    "    for i in range(0,n):\n",
    "        row = []\n",
    "        for j in range(0,n):\n",
    "            if (i,j) in R:\n",
    "                row.append(1)\n",
    "            else:\n",
    "                row.append(0)\n",
    "        M.append(row)\n",
    "        \n",
    "    return M\n",
    "\n",
    "def list_or(list):\n",
    "    \"\"\"Operación OR sobre elementos de lista\"\"\"\n",
    "    if all(i == 0 for i in list):\n",
    "        return 0\n",
    "    else:\n",
    "        return 1\n",
    "    \n",
    "def relation_from_matrix(M):\n",
    "    \"\"\"Recuperar relación de forma tabular\"\"\"\n",
    "    relation = []\n",
    "    for i,row in enumerate(M):\n",
    "        for j, column in enumerate(row):\n",
    "            if column == 1:\n",
    "                relation.append((i,j))\n",
    "                \n",
    "    return relation\n",
    "\n",
    "def check_transitivity(R):\n",
    "    \"\"\"Revisa si una relación (conjunto de pares ordenados) es transitiva\"\"\"\n",
    "    t = True\n",
    "    for (i,j) in R:\n",
    "        for (k,l) in R:\n",
    "            if j == k:\n",
    "                if (i,l) not in R:\n",
    "                    t = False\n",
    "                    break\n",
    "                else:\n",
    "                    pass\n",
    "    \n",
    "    if t:\n",
    "        print('La relación es transitiva')\n",
    "    else:\n",
    "        print('La relacion no es transitiva')"
   ]
  },
  {
   "cell_type": "markdown",
   "id": "995a5513",
   "metadata": {},
   "source": [
    "## Algoritmo de Warshall\n",
    "\n",
    "El algoritmo de Warshall construye la cerradura transitiva a partir de una relación $R$, para esto se basa en construir una matriz $C$ que es la forma tabular de la relación $R^+$ y que está determinada como:\n",
    "\n",
    "$$c_{i,j}^l = \\begin{cases} c_{i,j}^{l-1} \\lor \\Big( \\bigvee_{k=1}^n (c_{i,k}^{l-1} \\land a_{k,j}) \\Big)  & \\text{si } l >1 \\\\ a_{i,j} & \\text{si } l=1\\end{cases}$$"
   ]
  },
  {
   "cell_type": "code",
   "execution_count": 2,
   "id": "c067c2ce",
   "metadata": {},
   "outputs": [],
   "source": [
    "def warshall(R, n):\n",
    "    \"\"\"Algoritmo de Warshall\"\"\"\n",
    "    #Matriz de adyacencia de R\n",
    "    M = construct_adjacency(R,n)\n",
    "    #Nueva matriz\n",
    "    C = M.copy()\n",
    "    #Copia de matriz\n",
    "    CP = C.copy()\n",
    "    #Acumulador por elemenots\n",
    "    numlt = 1\n",
    "    #Determina si hubo cambio\n",
    "    bCambio = True\n",
    "    #Mientras numlt sean menor o igual al número de elementos\n",
    "    while numlt <= n and bCambio:\n",
    "        #Recorre renglones\n",
    "        for i in range(0, n):\n",
    "            #Recorre columnas\n",
    "            for j in range(0, n):\n",
    "                #Agrega 1 en la entrada CP_i,j si C_i,k y C_k,j están en la relación\n",
    "                CP[i][j] = C[i][j] or list_or( [C[i][k] and M[k][j] for k in range(0,len(M))] )\n",
    "                #Determina si hubo un cambio\n",
    "                bCambio = (CP[i][j] != C[i][j])\n",
    "        #Aumenta numlt\n",
    "        numlt += 1    \n",
    "        #Asigna la nueva matriz\n",
    "        C = CP\n",
    "        \n",
    "    return C"
   ]
  },
  {
   "cell_type": "markdown",
   "id": "5b0dc018",
   "metadata": {},
   "source": [
    "Definimos una relación no transitiva:"
   ]
  },
  {
   "cell_type": "code",
   "execution_count": 3,
   "id": "8b6a462e",
   "metadata": {},
   "outputs": [
    {
     "name": "stdout",
     "output_type": "stream",
     "text": [
      "La relacion no es transitiva\n"
     ]
    },
    {
     "data": {
      "image/png": "[encoded data removed]",
      "text/plain": [
       "<Figure size 432x288 with 1 Axes>"
      ]
     },
     "metadata": {},
     "output_type": "display_data"
    }
   ],
   "source": [
    "#Relación no transitiva\n",
    "R1 = [(0,1),(1,1),(2,0),(3,2),(0,4)]\n",
    "#Revisamos que en efecto no es transitiva\n",
    "check_transitivity(R1)\n",
    "\n",
    "#Dibujar gráfica\n",
    "G = nx.DiGraph()\n",
    "G.add_edges_from(R1)\n",
    "layouts = nx.spring_layout(G)\n",
    "nx.draw_networkx(G, with_labels=True, pos=layouts)"
   ]
  },
  {
   "cell_type": "markdown",
   "id": "2bfc2bd0",
   "metadata": {},
   "source": [
    "Creamos la relación transitiva con el algoritmo de Warrshall:"
   ]
  },
  {
   "cell_type": "code",
   "execution_count": 4,
   "id": "2342785f",
   "metadata": {},
   "outputs": [
    {
     "name": "stdout",
     "output_type": "stream",
     "text": [
      "[(0, 1), (0, 4), (1, 1), (2, 0), (2, 1), (2, 4), (3, 0), (3, 1), (3, 2), (3, 4)]\n",
      "La relación es transitiva\n"
     ]
    },
    {
     "data": {
      "image/png": "[encoded data removed]",
      "text/plain": [
       "<Figure size 432x288 with 1 Axes>"
      ]
     },
     "metadata": {},
     "output_type": "display_data"
    }
   ],
   "source": [
    "#Creamos la relación transitiva\n",
    "tr_M1 = warshall(R1,5)\n",
    "tr_R1 = relation_from_matrix(tr_M1)\n",
    "print(tr_R1)\n",
    "check_transitivity(tr_R1)\n",
    "\n",
    "#Dibujamos la gráfica\n",
    "Warshall_G = nx.DiGraph()\n",
    "Warshall_G.add_edges_from(tr_R1)\n",
    "nx.draw_networkx(Warshall_G, with_labels=True, pos=layouts)"
   ]
  },
  {
   "cell_type": "markdown",
   "id": "9fcc00d9",
   "metadata": {},
   "source": [
    "  "
   ]
  }
 ],
 "metadata": {
  "kernelspec": {
   "display_name": "Python 3",
   "language": "python",
   "name": "python3"
  },
  "language_info": {
   "codemirror_mode": {
    "name": "ipython",
    "version": 3
   },
   "file_extension": ".py",
   "mimetype": "text/x-python",
   "name": "python",
   "nbconvert_exporter": "python",
   "pygments_lexer": "ipython3",
   "version": "3.8.8"
  }
 },
 "nbformat": 4,
 "nbformat_minor": 5
}

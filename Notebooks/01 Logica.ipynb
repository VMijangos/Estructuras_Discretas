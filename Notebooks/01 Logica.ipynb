{
 "cells": [
  {
   "cell_type": "markdown",
   "id": "04130b08",
   "metadata": {},
   "source": [
    "# Operadores lógicos"
   ]
  },
  {
   "cell_type": "code",
   "execution_count": 1,
   "id": "37b90ca9",
   "metadata": {},
   "outputs": [],
   "source": [
    "def NOT(p):\n",
    "    return not p"
   ]
  },
  {
   "cell_type": "code",
   "execution_count": 2,
   "id": "9b8b826c",
   "metadata": {},
   "outputs": [
    {
     "name": "stdout",
     "output_type": "stream",
     "text": [
      "p\t¬p\n",
      "True\tFalse\n",
      "False\tTrue\n"
     ]
    }
   ],
   "source": [
    "print('p\\t¬p')\n",
    "for p in [True, False]:\n",
    "    print('{}\\t{}'.format(p,NOT(p)))"
   ]
  },
  {
   "cell_type": "code",
   "execution_count": 3,
   "id": "74c97088",
   "metadata": {},
   "outputs": [],
   "source": [
    "def AND(p,q):\n",
    "    return p and q"
   ]
  },
  {
   "cell_type": "code",
   "execution_count": 20,
   "id": "bdcb1602",
   "metadata": {},
   "outputs": [
    {
     "name": "stdout",
     "output_type": "stream",
     "text": [
      "p\tq\tp^q\n",
      "True\tTrue\tTrue\n",
      "True\tFalse\tFalse\n",
      "False\tTrue\tFalse\n",
      "False\tFalse\tFalse\n"
     ]
    }
   ],
   "source": [
    "print('p\\tq\\tp^q')\n",
    "for p in [True, False]:\n",
    "    for q in [True, False]:\n",
    "        print('{}\\t{}\\t{}'.format(p,q,AND(p,q)))"
   ]
  },
  {
   "cell_type": "code",
   "execution_count": 6,
   "id": "351d41b7",
   "metadata": {},
   "outputs": [],
   "source": [
    "def OR(p,q):\n",
    "    return p or q"
   ]
  },
  {
   "cell_type": "code",
   "execution_count": 21,
   "id": "105527ab",
   "metadata": {},
   "outputs": [
    {
     "name": "stdout",
     "output_type": "stream",
     "text": [
      "p\tq\tpvq\n",
      "True\tTrue\tTrue\n",
      "True\tFalse\tTrue\n",
      "False\tTrue\tTrue\n",
      "False\tFalse\tFalse\n"
     ]
    }
   ],
   "source": [
    "print('p\\tq\\tpvq')\n",
    "for p in [True, False]:\n",
    "    for q in [True, False]:\n",
    "        print('{}\\t{}\\t{}'.format(p,q,OR(p,q)))"
   ]
  },
  {
   "cell_type": "code",
   "execution_count": 12,
   "id": "747e0ccb",
   "metadata": {},
   "outputs": [],
   "source": [
    "def THEN(p,q):\n",
    "    return q if p else True"
   ]
  },
  {
   "cell_type": "code",
   "execution_count": 22,
   "id": "c8744d23",
   "metadata": {},
   "outputs": [
    {
     "name": "stdout",
     "output_type": "stream",
     "text": [
      "p\tq\tp->q\n",
      "True\tTrue\tTrue\n",
      "True\tFalse\tFalse\n",
      "False\tTrue\tTrue\n",
      "False\tFalse\tTrue\n"
     ]
    }
   ],
   "source": [
    "print('p\\tq\\tp->q')\n",
    "for p in [True, False]:\n",
    "    for q in [True, False]:\n",
    "        print('{}\\t{}\\t{}'.format(p,q,THEN(p,q)))"
   ]
  },
  {
   "cell_type": "markdown",
   "id": "5ae2a3c3",
   "metadata": {},
   "source": [
    "## Operadores compuestos"
   ]
  },
  {
   "cell_type": "code",
   "execution_count": 25,
   "id": "0f69113c",
   "metadata": {},
   "outputs": [],
   "source": [
    "def IFF(p,q):\n",
    "    return AND(THEN(p,q), THEN(q,p))"
   ]
  },
  {
   "cell_type": "code",
   "execution_count": 26,
   "id": "fd2eadf9",
   "metadata": {},
   "outputs": [
    {
     "name": "stdout",
     "output_type": "stream",
     "text": [
      "p\tq\tp<->q\n",
      "True\tTrue\tTrue\n",
      "True\tFalse\tFalse\n",
      "False\tTrue\tFalse\n",
      "False\tFalse\tTrue\n"
     ]
    }
   ],
   "source": [
    "print('p\\tq\\tp<->q')\n",
    "for p in [True, False]:\n",
    "    for q in [True, False]:\n",
    "        print('{}\\t{}\\t{}'.format(p,q,IFF(p,q)))"
   ]
  },
  {
   "cell_type": "code",
   "execution_count": 27,
   "id": "39ec13de",
   "metadata": {},
   "outputs": [],
   "source": [
    "def XOR(p,q):\n",
    "    return AND(NOT(AND(p,q)), OR(p,q))"
   ]
  },
  {
   "cell_type": "code",
   "execution_count": 28,
   "id": "d8528ddd",
   "metadata": {},
   "outputs": [
    {
     "name": "stdout",
     "output_type": "stream",
     "text": [
      "p\tq\tp XOR q\n",
      "True\tTrue\tFalse\n",
      "True\tFalse\tTrue\n",
      "False\tTrue\tTrue\n",
      "False\tFalse\tFalse\n"
     ]
    }
   ],
   "source": [
    "print('p\\tq\\tp XOR q')\n",
    "for p in [True, False]:\n",
    "    for q in [True, False]:\n",
    "        print('{}\\t{}\\t{}'.format(p,q,XOR(p,q)))"
   ]
  },
  {
   "cell_type": "code",
   "execution_count": null,
   "id": "d622ab21",
   "metadata": {},
   "outputs": [],
   "source": []
  },
  {
   "cell_type": "code",
   "execution_count": 32,
   "id": "189bbde9",
   "metadata": {},
   "outputs": [
    {
     "name": "stdout",
     "output_type": "stream",
     "text": [
      "True True True True\n",
      "True True False False\n",
      "True False True True\n",
      "True False False True\n",
      "False True True True\n",
      "False True False False\n",
      "False False True True\n",
      "False False False False\n"
     ]
    }
   ],
   "source": [
    "A1 = lambda p,q,r: THEN(THEN(p,q),r)\n",
    "\n",
    "for p in [True, False]:\n",
    "    for q in [True, False]:\n",
    "        for r in [True, False]:\n",
    "            print(p,q,r, A1(p,q,r))"
   ]
  },
  {
   "cell_type": "code",
   "execution_count": 35,
   "id": "174924e7",
   "metadata": {},
   "outputs": [
    {
     "name": "stdout",
     "output_type": "stream",
     "text": [
      "True True True\n",
      "True False True\n",
      "False True True\n",
      "False False True\n"
     ]
    }
   ],
   "source": [
    "for p in [True, False]:\n",
    "    for q in [True, False]:\n",
    "        prop = THEN(AND(THEN(p,q),p),q)\n",
    "        print(p,q, prop)"
   ]
  },
  {
   "cell_type": "code",
   "execution_count": null,
   "id": "e75881fe",
   "metadata": {},
   "outputs": [],
   "source": []
  }
 ],
 "metadata": {
  "kernelspec": {
   "display_name": "Python 3",
   "language": "python",
   "name": "python3"
  },
  "language_info": {
   "codemirror_mode": {
    "name": "ipython",
    "version": 3
   },
   "file_extension": ".py",
   "mimetype": "text/x-python",
   "name": "python",
   "nbconvert_exporter": "python",
   "pygments_lexer": "ipython3",
   "version": "3.8.8"
  }
 },
 "nbformat": 4,
 "nbformat_minor": 5
}
